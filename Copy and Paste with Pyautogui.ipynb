{
 "cells": [
  {
   "cell_type": "code",
   "execution_count": 29,
   "id": "bafef565",
   "metadata": {},
   "outputs": [],
   "source": [
    "import pandas as pd\n",
    "import time\n",
    "import pyautogui as py\n",
    "import pyperclip"
   ]
  },
  {
   "cell_type": "code",
   "execution_count": 33,
   "id": "3778f6dc",
   "metadata": {},
   "outputs": [
    {
     "data": {
      "text/html": [
       "<div>\n",
       "<style scoped>\n",
       "    .dataframe tbody tr th:only-of-type {\n",
       "        vertical-align: middle;\n",
       "    }\n",
       "\n",
       "    .dataframe tbody tr th {\n",
       "        vertical-align: top;\n",
       "    }\n",
       "\n",
       "    .dataframe thead th {\n",
       "        text-align: right;\n",
       "    }\n",
       "</style>\n",
       "<table border=\"1\" class=\"dataframe\">\n",
       "  <thead>\n",
       "    <tr style=\"text-align: right;\">\n",
       "      <th></th>\n",
       "      <th>AULA</th>\n",
       "      <th>AULA FORMATADA</th>\n",
       "    </tr>\n",
       "  </thead>\n",
       "  <tbody>\n",
       "    <tr>\n",
       "      <th>0</th>\n",
       "      <td>1. INTRODUÇÃO</td>\n",
       "      <td>INTRODUÇÃO</td>\n",
       "    </tr>\n",
       "    <tr>\n",
       "      <th>1</th>\n",
       "      <td>2. CONTEXTOS DE AVALIAÇÃO</td>\n",
       "      <td>CONTEXTOS DE AVALIAÇÃO</td>\n",
       "    </tr>\n",
       "    <tr>\n",
       "      <th>2</th>\n",
       "      <td>3. TESTANDO OS CONHECIMENTOS DE CONTEXTO DE FI...</td>\n",
       "      <td>TESTANDO OS CONHECIMENTOS DE CONTEXTO DE FILTRO</td>\n",
       "    </tr>\n",
       "    <tr>\n",
       "      <th>3</th>\n",
       "      <td>4. TESTANDO OS CONHECIMENTOS DE CONTEXTO DE FI...</td>\n",
       "      <td>TESTANDO OS CONHECIMENTOS DE CONTEXTO DE FILT...</td>\n",
       "    </tr>\n",
       "    <tr>\n",
       "      <th>4</th>\n",
       "      <td>5. ENTENDENDO AS BASES E CRIANDO AS COLUNAS CA...</td>\n",
       "      <td>ENTENDENDO AS BASES E CRIANDO AS COLUNAS CALC...</td>\n",
       "    </tr>\n",
       "    <tr>\n",
       "      <th>...</th>\n",
       "      <td>...</td>\n",
       "      <td>...</td>\n",
       "    </tr>\n",
       "    <tr>\n",
       "      <th>80</th>\n",
       "      <td>81. CALCULANDO O PORCENTO DE VENDAS DOS TOP N ...</td>\n",
       "      <td>CALCULANDO O PORCENTO DE VENDAS DOS TOP N PROD...</td>\n",
       "    </tr>\n",
       "    <tr>\n",
       "      <th>81</th>\n",
       "      <td>82. CALCULANDO O PORCENTO DE VENDAS DOS TOP N ...</td>\n",
       "      <td>CALCULANDO O PORCENTO DE VENDAS DOS TOP N PROD...</td>\n",
       "    </tr>\n",
       "    <tr>\n",
       "      <th>82</th>\n",
       "      <td>83. ANÁLISE DE PARETO (PARTE 1)</td>\n",
       "      <td>ANÁLISE DE PARETO (PARTE 1)</td>\n",
       "    </tr>\n",
       "    <tr>\n",
       "      <th>83</th>\n",
       "      <td>84. ANÁLISE DE PARETO (PARTE 2)</td>\n",
       "      <td>ANÁLISE DE PARETO (PARTE 2)</td>\n",
       "    </tr>\n",
       "    <tr>\n",
       "      <th>84</th>\n",
       "      <td>85. ANÁLISE DE PARETO (PARTE 3)</td>\n",
       "      <td>ANÁLISE DE PARETO (PARTE 3)</td>\n",
       "    </tr>\n",
       "  </tbody>\n",
       "</table>\n",
       "<p>85 rows × 2 columns</p>\n",
       "</div>"
      ],
      "text/plain": [
       "                                                 AULA  \\\n",
       "0                                       1. INTRODUÇÃO   \n",
       "1                           2. CONTEXTOS DE AVALIAÇÃO   \n",
       "2   3. TESTANDO OS CONHECIMENTOS DE CONTEXTO DE FI...   \n",
       "3   4. TESTANDO OS CONHECIMENTOS DE CONTEXTO DE FI...   \n",
       "4   5. ENTENDENDO AS BASES E CRIANDO AS COLUNAS CA...   \n",
       "..                                                ...   \n",
       "80  81. CALCULANDO O PORCENTO DE VENDAS DOS TOP N ...   \n",
       "81  82. CALCULANDO O PORCENTO DE VENDAS DOS TOP N ...   \n",
       "82                    83. ANÁLISE DE PARETO (PARTE 1)   \n",
       "83                    84. ANÁLISE DE PARETO (PARTE 2)   \n",
       "84                    85. ANÁLISE DE PARETO (PARTE 3)   \n",
       "\n",
       "                                       AULA FORMATADA  \n",
       "0                                          INTRODUÇÃO  \n",
       "1                              CONTEXTOS DE AVALIAÇÃO  \n",
       "2     TESTANDO OS CONHECIMENTOS DE CONTEXTO DE FILTRO  \n",
       "3    TESTANDO OS CONHECIMENTOS DE CONTEXTO DE FILT...  \n",
       "4    ENTENDENDO AS BASES E CRIANDO AS COLUNAS CALC...  \n",
       "..                                                ...  \n",
       "80  CALCULANDO O PORCENTO DE VENDAS DOS TOP N PROD...  \n",
       "81  CALCULANDO O PORCENTO DE VENDAS DOS TOP N PROD...  \n",
       "82                        ANÁLISE DE PARETO (PARTE 1)  \n",
       "83                        ANÁLISE DE PARETO (PARTE 2)  \n",
       "84                        ANÁLISE DE PARETO (PARTE 3)  \n",
       "\n",
       "[85 rows x 2 columns]"
      ]
     },
     "metadata": {},
     "output_type": "display_data"
    }
   ],
   "source": [
    "tabela = pd.read_excel(r'C:\\Users\\Usuario\\Documents\\Maiusc para BI.xlsx')\n",
    "display(tabela)"
   ]
  },
  {
   "cell_type": "code",
   "execution_count": 32,
   "id": "d49d9550",
   "metadata": {},
   "outputs": [],
   "source": [
    "for index,row in tabela.iterrows():\n",
    "    time.sleep(1)\n",
    "    aula_formatada = row['AULA FORMATADA']\n",
    "    time.sleep(1)\n",
    "    py.doubleClick(778,330,interval = 0.25) #clicando no título da aula\n",
    "    time.sleep(1)\n",
    "    py.press('delete', presses=20) #apagando a aula\n",
    "    pyperclip.copy(aula_formatada)\n",
    "    py.hotkey('ctrl','v') # escrevendo a aula\n",
    "    time.sleep(1)\n",
    "    py.click(334,479)\n",
    "    time.sleep(2)\n",
    "    py.press('down')\n"
   ]
  },
  {
   "cell_type": "code",
   "execution_count": 24,
   "id": "08dbf29b",
   "metadata": {},
   "outputs": [],
   "source": [
    "py.doubleClick(778,330,interval = 0.25)"
   ]
  },
  {
   "cell_type": "code",
   "execution_count": 25,
   "id": "9843a3ee",
   "metadata": {},
   "outputs": [
    {
     "data": {
      "text/plain": [
       "Point(x=335, y=479)"
      ]
     },
     "execution_count": 25,
     "metadata": {},
     "output_type": "execute_result"
    }
   ],
   "source": [
    "time.sleep(2)\n",
    "py.position()"
   ]
  }
 ],
 "metadata": {
  "kernelspec": {
   "display_name": "Python 3 (ipykernel)",
   "language": "python",
   "name": "python3"
  },
  "language_info": {
   "codemirror_mode": {
    "name": "ipython",
    "version": 3
   },
   "file_extension": ".py",
   "mimetype": "text/x-python",
   "name": "python",
   "nbconvert_exporter": "python",
   "pygments_lexer": "ipython3",
   "version": "3.11.5"
  }
 },
 "nbformat": 4,
 "nbformat_minor": 5
}
